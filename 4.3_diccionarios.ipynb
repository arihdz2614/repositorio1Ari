{
 "cells": [
  {
   "cell_type": "markdown",
   "metadata": {},
   "source": [
    "# Ejercicios: Diccionarios"
   ]
  },
  {
   "cell_type": "markdown",
   "metadata": {},
   "source": [
    "### Ejercicio 1\n",
    "Escribir un programa que guarde en una variable el diccionario {'Euro':'€', 'Dollar':'$', 'Yen':'¥'}, pregunte al usuario por una divisa y muestre su símbolo o un mensaje de aviso si la divisa no está en el diccionario."
   ]
  },
  {
   "cell_type": "code",
   "execution_count": 4,
   "metadata": {},
   "outputs": [
    {
     "name": "stdout",
     "output_type": "stream",
     "text": [
      "La divisa no esta en el diccionario.\n"
     ]
    }
   ],
   "source": [
    "# Solución\n",
    "divisas = {'Euro':'€', 'Dollar':'$', 'Yen':'¥'}\n",
    "divisa = input(\"Ingresa una divisa: \")\n",
    "if divisa.title() in divisas:\n",
    "    print(divisas[divisa.title()])\n",
    "else:\n",
    "    print(\"La divisa no esta en el diccionario.\")    "
   ]
  },
  {
   "cell_type": "markdown",
   "metadata": {},
   "source": [
    "### Ejercicio 2\n",
    "Escribir un programa que pregunte al usuario su nombre, edad, dirección y teléfono y lo guarde en un diccionario. Después debe mostrar por pantalla el mensaje \\<nombre> tiene \\<edad> años, vive en \\<dirección> y su número de teléfono es \\<teléfono>."
   ]
  },
  {
   "cell_type": "code",
   "execution_count": 6,
   "metadata": {},
   "outputs": [
    {
     "name": "stdout",
     "output_type": "stream",
     "text": [
      "Ariana tiene 32 años vive en  cerrada de las flore Su numero de telefono es 5519752065\n"
     ]
    }
   ],
   "source": [
    "# Solución\n",
    "nombre = input(\"¿Cual es tu nombre?\")\n",
    "edad = input(\"¿Cual es tu edad?\")\n",
    "direccion = input(\"¿Cual es tu direccion?\")\n",
    "telefono = input(\"¿Cual es tu numero de telefono?\")\n",
    "persona ={\"nombre\": nombre, \"edad\": edad, \"direccion\": direccion, \"telefono\": telefono}\n",
    "print(persona[\"nombre\"], \"tiene\", persona[\"edad\"], \"años\", \"vive en \", persona[\"direccion\"], \"Su numero de telefono es\", persona[\"telefono\"])"
   ]
  },
  {
   "cell_type": "markdown",
   "metadata": {},
   "source": [
    "### Ejercicio 3\n",
    "Escribir un programa que guarde en un diccionario los precios de las frutas de la tabla, pregunte al usuario por una fruta, un número de kilos y muestre por pantalla el precio de ese número de kilos de fruta. Si la fruta no está en el diccionario debe mostrar un mensaje informando de ello.\n",
    "<center>\n",
    "\n",
    "|Fruta|Precio|\n",
    "|:-:|:-:|\n",
    "|Plátano|20.0|\n",
    "|Manzana|30.0|\n",
    "|Pera|40.0|\n",
    "|Naranja|25.0|"
   ]
  },
  {
   "cell_type": "code",
   "execution_count": 11,
   "metadata": {},
   "outputs": [
    {
     "name": "stdout",
     "output_type": "stream",
     "text": [
      "5.0 Kilogramos de  Pera Cuestan 200.0 $\n"
     ]
    }
   ],
   "source": [
    "# Solución\n",
    "frutas = {\"Platano\":20.0, \"Manzana\":30.0, \"Pera\":40.0, \"Naranja\":25.0}\n",
    "fruta = input(\"¿Que fruta deseas?\").title()\n",
    "kg = float(input(\"¿Cuantos kilos?\"))\n",
    "if fruta in frutas:\n",
    "    print(kg, \"Kilogramos de \", fruta, \"Cuestan\", frutas[fruta]*kg, \"$\")\n",
    "else:\n",
    "    print(fruta, \"No disponible\")    "
   ]
  },
  {
   "cell_type": "markdown",
   "metadata": {},
   "source": [
    "### Ejercicio 4\n",
    "Escribir un programa que pregunte una fecha en formato dd/mm/aaaa y muestre por pantalla la misma fecha en formato dd de \\<mes> de aaaa donde \\<mes> es el nombre del mes."
   ]
  },
  {
   "cell_type": "code",
   "execution_count": 13,
   "metadata": {},
   "outputs": [
    {
     "name": "stdout",
     "output_type": "stream",
     "text": [
      "10 de febrero de 1990\n"
     ]
    }
   ],
   "source": [
    "# Solución\n",
    "meses = {1:'enero', 2:'febrero', 3:'marzo', 4:'abril', 5:'mayo', 6:'junio', 7:'julio', 8:'agosto', 9:'septiembre', 10:'octubre', 11:'noviembre', 12:'diciembre'}\n",
    "fecha = input(\"Igresa una fecha en formato dd/mm/aaaa: \")\n",
    "fecha = fecha.split('/')\n",
    "print(fecha[0], 'de', meses[int(fecha[1])], 'de', fecha[2])"
   ]
  },
  {
   "cell_type": "markdown",
   "metadata": {},
   "source": [
    "### Ejercicio 5\n",
    "Escribir un programa que almacene el diccionario con los créditos de las asignaturas de un curso {'Matemáticas': 6, 'Física': 4, 'Química': 5} y después muestre por pantalla los créditos de cada asignatura en el formato \\<asignatura> tiene \\<créditos> créditos, donde \\<asignatura> es cada una de las asignaturas del curso, y \\<créditos> son sus créditos. Al final debe mostrar también el número total de créditos del curso."
   ]
  },
  {
   "cell_type": "code",
   "execution_count": 14,
   "metadata": {},
   "outputs": [
    {
     "name": "stdout",
     "output_type": "stream",
     "text": [
      "Matemáticas tiene 6 créditos\n",
      "Física tiene 4 créditos\n",
      "Química tiene 5 créditos\n",
      "Número total de créditos del curso:  15\n"
     ]
    }
   ],
   "source": [
    "# Solución\n",
    "materias = {'Matemáticas': 6, 'Física': 4, 'Química': 5}\n",
    "Tcreditos = 0\n",
    "for asignatura, creditos in materias.items():\n",
    "    print(asignatura, 'tiene', creditos, 'créditos')\n",
    "    Tcreditos += creditos\n",
    "print('Número total de créditos del curso: ', Tcreditos)"
   ]
  },
  {
   "cell_type": "markdown",
   "metadata": {},
   "source": [
    "### Ejercicio 6\n",
    "Escribir un programa que cree un diccionario vacío y lo vaya llenado con información sobre una persona (por ejemplo nombre, edad, sexo, teléfono, correo electrónico, etc.) que se le pida al usuario. Cada vez que se añada un nuevo dato debe imprimirse el contenido del diccionario."
   ]
  },
  {
   "cell_type": "code",
   "execution_count": 15,
   "metadata": {},
   "outputs": [
    {
     "name": "stdout",
     "output_type": "stream",
     "text": [
      "{'nombre': 'Ariana'}\n"
     ]
    }
   ],
   "source": [
    "# Solución\n",
    "persona = {}\n",
    "continuar = True\n",
    "while continuar:\n",
    "    dato = input('¿Qué dato quieres introducir? ')\n",
    "    valor = input(dato + ': ')\n",
    "    persona[dato] = valor\n",
    "    print(persona)\n",
    "    continuar = input('¿Quieres añadir más información (Si/No)? ') == \"Si\""
   ]
  },
  {
   "cell_type": "markdown",
   "metadata": {},
   "source": [
    "### Ejercicio 7\n",
    "Escribir un programa que cree un diccionario simulando una cesta de la compra. El programa debe preguntar el artículo y su precio y añadir el par al diccionario, hasta que el usuario decida terminar. Después se debe mostrar por pantalla la lista de la compra y el coste total, con el siguiente formato:\n",
    "<center>\n",
    "\n",
    "|Lista de compras||\n",
    "|:-:|:-:|\n",
    "|Artículo 1|Precio 1|\n",
    "|Artículo 2|Precio 1|\n",
    "|Artículo 3|Precio 1|\n",
    "|...|...|\n",
    "|Total|Coste|"
   ]
  },
  {
   "cell_type": "code",
   "execution_count": 18,
   "metadata": {},
   "outputs": [
    {
     "name": "stdout",
     "output_type": "stream",
     "text": [
      "Lista de la compra\n"
     ]
    },
    {
     "ename": "AttributeError",
     "evalue": "'dict' object has no attribute 'articulos'",
     "output_type": "error",
     "traceback": [
      "\u001b[1;31m---------------------------------------------------------------------------\u001b[0m",
      "\u001b[1;31mAttributeError\u001b[0m                            Traceback (most recent call last)",
      "Cell \u001b[1;32mIn [18], line 11\u001b[0m\n\u001b[0;32m      9\u001b[0m coste \u001b[39m=\u001b[39m \u001b[39m0\u001b[39m\n\u001b[0;32m     10\u001b[0m \u001b[39mprint\u001b[39m(\u001b[39m'\u001b[39m\u001b[39mLista de la compra\u001b[39m\u001b[39m'\u001b[39m)\n\u001b[1;32m---> 11\u001b[0m \u001b[39mfor\u001b[39;00m articulo, precio \u001b[39min\u001b[39;00m cesta\u001b[39m.\u001b[39;49marticulos():\n\u001b[0;32m     12\u001b[0m     \u001b[39mprint\u001b[39m(articulo, \u001b[39m'\u001b[39m\u001b[39m\\t\u001b[39;00m\u001b[39m'\u001b[39m, precio)\n\u001b[0;32m     13\u001b[0m     coste \u001b[39m+\u001b[39m\u001b[39m=\u001b[39m precio\n",
      "\u001b[1;31mAttributeError\u001b[0m: 'dict' object has no attribute 'articulos'"
     ]
    }
   ],
   "source": [
    "# Solución\n",
    "cesta = {}\n",
    "continuar = True\n",
    "while continuar:\n",
    "    articulo = input('Introduce un artículo: ')\n",
    "    precio = float(input('Introduce el precio de ' + articulo + ': '))\n",
    "    cesta[articulo] = precio\n",
    "    continuar = input('¿Quieres añadir artículos a la lista (S/N)? ') == \"S\"\n",
    "coste = 0\n",
    "print('Lista de la compra')\n",
    "for articulo, precio in cesta.articulos():\n",
    "    print(articulo, '\\t', precio)\n",
    "    coste += precio\n",
    "print('Coste total: ', coste)"
   ]
  },
  {
   "cell_type": "markdown",
   "metadata": {},
   "source": [
    "### Ejercicio 8\n",
    "Escribir un programa que cree un diccionario de traducción español-inglés. El usuario introducirá las palabras en español e inglés separadas por dos puntos, y cada par \\<palabra>:\\<traducción> separados por comas. El programa debe crear un diccionario con las palabras y sus traducciones. Después pedirá una frase en español y utilizará el diccionario para traducirla palabra a palabra. Si una palabra no está en el diccionario debe dejarla sin traducir."
   ]
  },
  {
   "cell_type": "code",
   "execution_count": null,
   "metadata": {},
   "outputs": [],
   "source": [
    "# Solución"
   ]
  },
  {
   "cell_type": "markdown",
   "metadata": {},
   "source": [
    "### Ejercicio 9\n",
    "Escribir un programa que gestione las facturas pendientes de cobro de una empresa. Las facturas se almacenarán en un diccionario donde la clave de cada factura será el número de factura y el valor el coste de la factura. El programa debe preguntar al usuario si quiere añadir una nueva factura, pagar una existente o terminar. Si desea añadir una nueva factura se preguntará por el número de factura y su coste y se añadirá al diccionario. Si se desea pagar una factura se preguntará por el número de factura y se eliminará del diccionario. Después de cada operación el programa debe mostrar por pantalla la cantidad cobrada hasta el momento y la cantidad pendiente de cobro."
   ]
  },
  {
   "cell_type": "code",
   "execution_count": null,
   "metadata": {},
   "outputs": [],
   "source": [
    "# Solución"
   ]
  }
 ],
 "metadata": {
  "kernelspec": {
   "display_name": "Python 3.11.0 64-bit",
   "language": "python",
   "name": "python3"
  },
  "language_info": {
   "codemirror_mode": {
    "name": "ipython",
    "version": 3
   },
   "file_extension": ".py",
   "mimetype": "text/x-python",
   "name": "python",
   "nbconvert_exporter": "python",
   "pygments_lexer": "ipython3",
   "version": "3.11.0"
  },
  "orig_nbformat": 4,
  "vscode": {
   "interpreter": {
    "hash": "14884e38c0221eebfd6fee3e0d9f99d82c12ab979789ef570ccb9db8a5f0dd38"
   }
  }
 },
 "nbformat": 4,
 "nbformat_minor": 2
}
