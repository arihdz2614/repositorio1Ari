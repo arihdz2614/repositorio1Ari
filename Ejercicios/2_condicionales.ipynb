{
 "cells": [
  {
   "cell_type": "markdown",
   "metadata": {},
   "source": [
    "# Ejercicios: Estructura condicional"
   ]
  },
  {
   "cell_type": "markdown",
   "metadata": {},
   "source": [
    "### Ejercicio 1\n",
    "Escribir un programa que pregunte al usuario su edad y muestre por pantalla si es mayor de edad o no."
   ]
  },
  {
   "cell_type": "code",
   "execution_count": 69,
   "metadata": {},
   "outputs": [
    {
     "name": "stdout",
     "output_type": "stream",
     "text": [
      "Es mayor de edad\n"
     ]
    }
   ],
   "source": [
    "# Solución\n",
    "edad = int(input(\"Ingresa tu edad\"))\n",
    "if (edad >= 18):\n",
    "    print (\"Es mayor de edad\")\n",
    "else: \n",
    "    print (\"Es menor de edad\")"
   ]
  },
  {
   "cell_type": "markdown",
   "metadata": {},
   "source": [
    "### Ejercicio 2\n",
    "Escribir un programa que almacene una <span style=\"color:#66D9EF\">contraseña</span> en una variable, pregunte al usuario por la <span style=\"color:#66D9EF\">contraseña</span> e imprima por pantalla si la <span style=\"color:#66D9EF\">contraseña</span> introducida por el usuario coincide con la guardada en la variable sin tener en cuenta mayúsculas y minúsculas."
   ]
  },
  {
   "cell_type": "code",
   "execution_count": 45,
   "metadata": {},
   "outputs": [
    {
     "ename": "NameError",
     "evalue": "name 'pilares' is not defined",
     "output_type": "error",
     "traceback": [
      "\u001b[1;31m---------------------------------------------------------------------------\u001b[0m",
      "\u001b[1;31mNameError\u001b[0m                                 Traceback (most recent call last)",
      "Cell \u001b[1;32mIn [45], line 2\u001b[0m\n\u001b[0;32m      1\u001b[0m \u001b[39m# Solución\u001b[39;00m\n\u001b[1;32m----> 2\u001b[0m contra \u001b[39m=\u001b[39m \u001b[39mstr\u001b[39m(pilares)\n\u001b[0;32m      3\u001b[0m contra2\u001b[39m=\u001b[39m \u001b[39mstr\u001b[39m(\u001b[39minput\u001b[39m(\u001b[39m\"\u001b[39m\u001b[39mIngresa contraseña\u001b[39m\u001b[39m\"\u001b[39m))\n\u001b[0;32m      5\u001b[0m \u001b[39mif\u001b[39;00m \u001b[39mstr\u001b[39m(contra2 \u001b[39m==\u001b[39m contra):\n",
      "\u001b[1;31mNameError\u001b[0m: name 'pilares' is not defined"
     ]
    }
   ],
   "source": [
    "# Solución\n",
    "contra = str(pilares)\n",
    "contra2= str(input(\"Ingresa contraseña\"))\n",
    "\n",
    "if str(contra2 == contra):\n",
    "    print(\"Contraseña correcta\")\n",
    "else: \n",
    "    print(\"contraseña incorrecta\")"
   ]
  },
  {
   "cell_type": "markdown",
   "metadata": {},
   "source": [
    "### Ejercicio 3\n",
    "Escribir un programa que pida al usuario dos números y muestre por pantalla su división. Si el divisor es cero el programa debe mostrar un error."
   ]
  },
  {
   "cell_type": "code",
   "execution_count": 70,
   "metadata": {},
   "outputs": [
    {
     "name": "stdout",
     "output_type": "stream",
     "text": [
      "123000 / 3 = 41000.0\n"
     ]
    }
   ],
   "source": [
    "# Solución\n",
    "dividendo = int(input(\"ingresa el dividendo\"))\n",
    "divisor = int(input(\"Ingresa un divisor\"))\n",
    "division = (dividendo/divisor)\n",
    "\n",
    "if (divisor == 0):\n",
    "    print (\"Error\")\n",
    "    \n",
    "\n",
    "elif (divisor != 0):\n",
    "    print (dividendo,\"/\",divisor, \"=\", division )\n",
    "    "
   ]
  },
  {
   "cell_type": "markdown",
   "metadata": {},
   "source": [
    "### Ejercicio 4\n",
    "Escribir un programa que pida al usuario un número entero y muestre por pantalla si es par o impar."
   ]
  },
  {
   "cell_type": "code",
   "execution_count": 42,
   "metadata": {},
   "outputs": [
    {
     "name": "stdout",
     "output_type": "stream",
     "text": [
      "Este es un numero impar\n"
     ]
    }
   ],
   "source": [
    "# Solución\n",
    "numero = int(input(\"ingresa un numero\"))\n",
    "if (numero % 2 == 0):\n",
    "    print(\"Este es un numero par\")\n",
    "elif (numero % 2 == 1):\n",
    "    print (\"Este es un numero impar\")\n",
    "        \n"
   ]
  },
  {
   "cell_type": "markdown",
   "metadata": {},
   "source": [
    "### Ejercicio 5\n",
    "Para pagar un determinado impuesto se debe ser mayor de 16 años y tener unos ingresos iguales o superiores a $5000 mensuales. Escribir un programa que pregunte al usuario su edad y sus ingresos mensuales y muestre por pantalla si el usuario tiene que pagar o no."
   ]
  },
  {
   "cell_type": "code",
   "execution_count": 48,
   "metadata": {},
   "outputs": [
    {
     "name": "stdout",
     "output_type": "stream",
     "text": [
      "NO pagas impuesto\n"
     ]
    }
   ],
   "source": [
    "# solución\n",
    "edad = int(input(\"Ingresa tu edad\"))\n",
    "ingreso = int(input(\"Ingresa el monto\"))\n",
    "if (edad >= 16 and ingreso >= 5000 ):\n",
    "    print (\"SI pagas impuesto\")\n",
    "else:\n",
    "    print (\"NO pagas impuesto\")     "
   ]
  },
  {
   "cell_type": "markdown",
   "metadata": {},
   "source": [
    "### Ejercicio 6\n",
    "Los alumnos de un curso se han dividido en dos grupos A y B de acuerdo al sexo y el nombre. El grupo A esta formado por las mujeres con un nombre anterior a la M y los hombres con un nombre posterior a la N y el grupo B por el resto. Escribir un programa que pregunte al usuario su nombre y sexo, y muestre por pantalla el grupo que le corresponde."
   ]
  },
  {
   "cell_type": "code",
   "execution_count": 50,
   "metadata": {},
   "outputs": [
    {
     "ename": "NameError",
     "evalue": "name 'M' is not defined",
     "output_type": "error",
     "traceback": [
      "\u001b[1;31m---------------------------------------------------------------------------\u001b[0m",
      "\u001b[1;31mNameError\u001b[0m                                 Traceback (most recent call last)",
      "Cell \u001b[1;32mIn [50], line 5\u001b[0m\n\u001b[0;32m      2\u001b[0m sexo \u001b[39m=\u001b[39m \u001b[39mstr\u001b[39m(\u001b[39minput\u001b[39m(\u001b[39m\"\u001b[39m\u001b[39mEscribe M si eres MUJER O H si eres hombre\u001b[39m\u001b[39m\"\u001b[39m))\n\u001b[0;32m      3\u001b[0m nombre \u001b[39m=\u001b[39m \u001b[39mstr\u001b[39m(\u001b[39minput\u001b[39m(\u001b[39m\"\u001b[39m\u001b[39mIngresa tu nombre\u001b[39m\u001b[39m\"\u001b[39m))\n\u001b[1;32m----> 5\u001b[0m \u001b[39mif\u001b[39;00m (sexo \u001b[39m==\u001b[39m M \u001b[39mand\u001b[39;00m nombre \u001b[39m<\u001b[39m [\u001b[39m1\u001b[39m]) \u001b[39mor\u001b[39;00m (sexo \u001b[39m==\u001b[39m H \u001b[39mand\u001b[39;00m nombre \u001b[39m>\u001b[39m [\u001b[39m1\u001b[39m]):\n\u001b[0;32m      6\u001b[0m     \u001b[39mprint\u001b[39m(\u001b[39m\"\u001b[39m\u001b[39mPerteneces al grupo A\u001b[39m\u001b[39m\"\u001b[39m)\n\u001b[0;32m      7\u001b[0m \u001b[39melse\u001b[39;00m :\n",
      "\u001b[1;31mNameError\u001b[0m: name 'M' is not defined"
     ]
    }
   ],
   "source": [
    "# Solución    \n",
    "sexo = str(input(\"Escribe M si eres MUJER O H si eres hombre\"))\n",
    "nombre = str(input(\"Ingresa tu nombre\"))\n",
    "\n",
    "if (sexo == M and nombre < [1]) or (sexo == H and nombre > [1]):\n",
    "    print(\"Perteneces al grupo A\")\n",
    "else :\n",
    "    print(\"Perteneces al grupo B\")"
   ]
  },
  {
   "cell_type": "markdown",
   "metadata": {},
   "source": [
    "### Ejercicio 7\n",
    "En una determinada empresa, sus empleados son evaluados al final de cada año. Los puntos que pueden obtener en la evaluación comienzan en 0.0 y pueden ir aumentando, traduciéndose en mejores beneficios. Los puntos que pueden conseguir los empleados pueden ser 0.0, 0.4, 0.6 o más, pero no valores intermedios entre las cifras mencionadas. A continuación se muestra una tabla con los niveles correspondientes a cada puntuación. La cantidad de dinero conseguida en cada nivel es de $2,400 multiplicada por la puntuación del nivel.\n",
    "<center>\n",
    "\n",
    "|Nivel|Puntuación|\n",
    "|:-:|:-:|\n",
    "|Inaceptable|0.0|\n",
    "|Aceptable|0.4|\n",
    "|Meritorio|0.6 o más|\n",
    "\n",
    "Escribir un programa que lea la puntuación del usuario e indique su nivel de rendimiento, así como la cantidad de dinero que recibirá el usuario.\n",
    "\n",
    "\n"
   ]
  },
  {
   "cell_type": "code",
   "execution_count": 53,
   "metadata": {},
   "outputs": [
    {
     "name": "stdout",
     "output_type": "stream",
     "text": [
      "Nivel Meritorio Usted recibira $ 1440.0\n"
     ]
    }
   ],
   "source": [
    "# Solución\n",
    "puntuacion = float(input(\"Ingresa tu puntuacion 0.0, 0.4 o 0.6\"))\n",
    "dinero = (2400)\n",
    "if (puntuacion == 0.0):\n",
    "    print(\"Nivel inaceptable Usted recibira la cantidad de $0.0\")\n",
    "elif (puntuacion == 0.4):\n",
    "    print (\"Nivel Aceptable Usted recibira\", \"$\",puntuacion*dinero)\n",
    "elif (puntuacion >= 0.6):\n",
    "    print (\"Nivel Meritorio Usted recibira\", \"$\", puntuacion*dinero) \n",
    "    "
   ]
  },
  {
   "cell_type": "markdown",
   "metadata": {},
   "source": [
    "### Ejercicio 8\n",
    "Escribir un programa para una empresa que tiene salas de juegos para todas las edades y quiere calcular de forma automática el precio que debe cobrar a sus clientes por entrar. El programa debe preguntar al usuario la edad del cliente y mostrar el precio de la entrada. Si el cliente es menor de 4 años puede entrar gratis, si tiene entre 4 y 18 años debe pagar $5 y si es mayor de 18 años, $10."
   ]
  },
  {
   "cell_type": "code",
   "execution_count": 56,
   "metadata": {},
   "outputs": [
    {
     "name": "stdout",
     "output_type": "stream",
     "text": [
      "Pagar $10\n"
     ]
    }
   ],
   "source": [
    "# Solución\n",
    "edad = int(input(\"Ingresa tu edad\"))\n",
    "if (edad <= 4):\n",
    "    print (\"Ingresa GRATIS\")\n",
    "elif (edad >=4 and edad <= 18):\n",
    "    print (\"Pagar $5\")\n",
    "else:\n",
    "    print (\"Pagar $10\")   \n",
    "       "
   ]
  },
  {
   "cell_type": "markdown",
   "metadata": {},
   "source": [
    "### Ejercicio 9\n",
    "La pizzería Planeta ofrece pizzas vegetarianas y no vegetarianas a sus clientes. Los ingredientes para cada tipo de pizza aparecen a continuación.  \n",
    "\n",
    "* Vegetarianos: Pimiento y tofu.  \n",
    "* No vegetarianos: Peperoni, Jamón y Salmón.  \n",
    "\n",
    "Escribir un programa que pregunte al usuario si quiere una pizza vegetariana o no, y en función de su respuesta le muestre un menú con los ingredientes disponibles para que elija. Solo se puede eligir un ingrediente además de la mozzarella y el tomate que están en todas la pizzas. Al final se debe mostrar por pantalla si la pizza elegida es vegetariana o no y todos los ingredientes que lleva.\n",
    "\n",
    "\n"
   ]
  },
  {
   "cell_type": "code",
   "execution_count": 68,
   "metadata": {},
   "outputs": [
    {
     "name": "stdout",
     "output_type": "stream",
     "text": [
      "opcion incorrecta vuelva a intantarlo\n"
     ]
    }
   ],
   "source": [
    "# Solución\n",
    "pizza = int(input(\"Ingresa la opcion deseada: Escribe 1 si deseas pizza vegetariana 0 2 si deseas pizza N0 vegetariana\"))\n",
    "\n",
    "if (pizza == 1):\n",
    "    print (\"Acabas de elejir una pizza vegetariana\")\n",
    "    \n",
    "    pizza1 = int(input(\"Escribe 1 para elejir PIMIENTO O Escribe 2 para elejir TOFU\"))\n",
    "    if (pizza1 == 1):\n",
    "        print (\"Su pizza es vegetariana y el ingrediente que elijio es: PIMIENTO\")\n",
    "    elif (pizza1 == 2):\n",
    "        print(\"Su pizza es vegetariana y el ingrediente que elijio es: TOFU\")\n",
    "                \n",
    "elif (pizza == 2):\n",
    "    print(\"Acabas de elejir una pizza NO vegetariana\")\n",
    "    \n",
    "    pizza2 = int (input(\"Escribe 1 para elegir PEPERONI, 2 para elejir JAMON o 3 para elejir SALMON\"))\n",
    "    if (pizza2 == 1):\n",
    "        print(\"Su pizza NO es vegetariana y el ingrediente que elijio es: PEPERONI \")\n",
    "    elif (pizza2 == 2):\n",
    "        print(\"Su pizza NO es vegetariana y el ingrediente que elijio es: JAMON\")\n",
    "    elif (pizza2 == 3):\n",
    "        print(\"Su pizza No es vegetariana y el ingrediente que elijio es: SALMON\") \n",
    "else:\n",
    "\n",
    "    print(\"opcion incorrecta vuelva a intantarlo\")          \n",
    "    "
   ]
  },
  {
   "cell_type": "code",
   "execution_count": null,
   "metadata": {},
   "outputs": [],
   "source": []
  }
 ],
 "metadata": {
  "kernelspec": {
   "display_name": "Python 3.11.0 64-bit",
   "language": "python",
   "name": "python3"
  },
  "language_info": {
   "codemirror_mode": {
    "name": "ipython",
    "version": 3
   },
   "file_extension": ".py",
   "mimetype": "text/x-python",
   "name": "python",
   "nbconvert_exporter": "python",
   "pygments_lexer": "ipython3",
   "version": "3.11.0"
  },
  "orig_nbformat": 4,
  "vscode": {
   "interpreter": {
    "hash": "14884e38c0221eebfd6fee3e0d9f99d82c12ab979789ef570ccb9db8a5f0dd38"
   }
  }
 },
 "nbformat": 4,
 "nbformat_minor": 2
}
